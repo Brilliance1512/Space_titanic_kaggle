{
 "cells": [
  {
   "cell_type": "code",
   "execution_count": 1004,
   "metadata": {},
   "outputs": [],
   "source": [
    "import pandas as pd\n",
    "import numpy as np\n",
    "df_train = pd.read_csv('data/train.csv')\n",
    "df_test = pd.read_csv('data/test.csv')\n",
    "df_test['Transported'] = 'Test'\n",
    "test_id = df_test['PassengerId']"
   ]
  },
  {
   "cell_type": "code",
   "execution_count": 1005,
   "metadata": {},
   "outputs": [],
   "source": [
    "df_all = pd.concat([df_train, df_test])\n",
    "df_all = df_all.drop('PassengerId', axis = 1)"
   ]
  },
  {
   "cell_type": "code",
   "execution_count": 1006,
   "metadata": {},
   "outputs": [],
   "source": [
    "df_all['VIP'].fillna(False, inplace=True)\n",
    "df_all['VIP'] = df_all['VIP'].astype(float)\n",
    "df_all['VRDeck'].fillna(0, inplace=True)\n",
    "df_all['Spa'].fillna(0, inplace=True)\n",
    "df_all['ShoppingMall'].fillna(0, inplace=True)\n",
    "df_all['FoodCourt'].fillna(0, inplace=True)\n",
    "df_all['RoomService'].fillna(0, inplace=True)"
   ]
  },
  {
   "cell_type": "code",
   "execution_count": 1007,
   "metadata": {},
   "outputs": [],
   "source": [
    "from sklearn.preprocessing import OneHotEncoder\n",
    "df_all['Destination'].fillna('Unknown', inplace=True)\n",
    "df_all['CryoSleep'].fillna(False, inplace=True)\n",
    "df_all['CryoSleep'] = df_all['CryoSleep'].astype(float)\n",
    "df_all['HomePlanet'].fillna('Unknown', inplace=True)\n",
    "df_all['Cabin'].fillna(0, inplace=True)\n",
    "df_all['Deck'] = df_all['Cabin'].apply(lambda x: 'Unknown' if x == 0 else x.split('/')[0])\n",
    "df_all['Side'] = df_all['Cabin'].apply(lambda x: 'Unknown' if x == 0 else x.split('/')[2])"
   ]
  },
  {
   "cell_type": "code",
   "execution_count": 1008,
   "metadata": {},
   "outputs": [
    {
     "name": "stdout",
     "output_type": "stream",
     "text": [
      "12970\n"
     ]
    }
   ],
   "source": [
    "df_dum = pd.get_dummies(df_all[['Destination', 'HomePlanet', 'Deck', 'Side']], dummy_na=True)\n",
    "print(len(df_dum))\n",
    "df_all = df_all.reset_index(drop=True)\n",
    "df_dum = df_dum.reset_index(drop=True)\n",
    "df_all = df_all.join(df_dum)\n",
    "df_all = df_all.drop(['Destination', 'HomePlanet', 'Cabin', 'Deck', 'Side'], axis = 1)"
   ]
  },
  {
   "cell_type": "code",
   "execution_count": 1009,
   "metadata": {},
   "outputs": [],
   "source": [
    "df_all['Name'].fillna(0, inplace=True)\n",
    "df_all['Name'] = df_all['Name'].apply(lambda x: 1 if x!=0 else 0)\n",
    "df_all['Age'] = pd.qcut(df_all['Age'], 6, labels=False)"
   ]
  },
  {
   "cell_type": "code",
   "execution_count": 1010,
   "metadata": {},
   "outputs": [],
   "source": [
    "import lightgbm as lgb\n",
    "import xgboost as xgb\n",
    "from sklearn.metrics import accuracy_score\n",
    "from sklearn.model_selection import train_test_split\n",
    "from sklearn.linear_model import LogisticRegression\n",
    "df_val = df_all[df_all['Transported'] == 'Test']\n",
    "df_train = df_all[df_all['Transported'] != 'Test']\n",
    "X = df_train.drop('Transported', axis = 1)\n",
    "y = df_train['Transported'].astype(bool)\n",
    "X_train, X_test, y_train, y_test = train_test_split(X, y, test_size=0.2, random_state=42)\n",
    "X_val = df_val.drop('Transported', axis = 1)"
   ]
  },
  {
   "cell_type": "code",
   "execution_count": 1011,
   "metadata": {},
   "outputs": [
    {
     "name": "stderr",
     "output_type": "stream",
     "text": [
      "\u001b[32m[I 2022-07-04 17:57:35,456]\u001b[0m A new study created in memory with name: no-name-bf81a8ac-b126-4462-a889-f63d5ceaa6e2\u001b[0m\n"
     ]
    }
   ],
   "source": [
    "import optuna\n",
    "import sklearn\n",
    "\n",
    "def objective(trial):\n",
    "\n",
    "    # Invoke suggest methods of a Trial object to generate hyperparameters.\n",
    "    max_depth = trial.suggest_int('max_depth', 2, 50)\n",
    "    num_leaves = trial.suggest_int('num_leaves', 2, 50)\n",
    "    n_estimators = trial.suggest_int('n_estimators', 20, 500)\n",
    "    lr = trial.suggest_float('lr', 0.01, 0.2)\n",
    "    modelTest = lgb.LGBMClassifier(max_depth=max_depth, num_leaves=num_leaves, n_estimators=n_estimators, learning_rate=lr)\n",
    "    modelTest.fit(X_train, y_train)\n",
    "    y_pred = modelTest.predict(X_test)\n",
    "\n",
    "    error = 1 - accuracy_score(y_test, y_pred)\n",
    "\n",
    "    return error\n",
    "\n",
    "study = optuna.create_study()  # Create a new study.\n",
    "# study.optimize(objective, n_trials=300)"
   ]
  },
  {
   "cell_type": "code",
   "execution_count": 1012,
   "metadata": {},
   "outputs": [
    {
     "name": "stdout",
     "output_type": "stream",
     "text": [
      "0.8010350776308223\n"
     ]
    }
   ],
   "source": [
    "model = lgb.LGBMClassifier(max_depth=20, num_leaves = 12, n_estimators=33, learning_rate=0.189)\n",
    "model.fit(X_train, y_train)\n",
    "y_pred = model.predict(X_test)\n",
    "print(accuracy_score(y_test, y_pred))"
   ]
  },
  {
   "cell_type": "code",
   "execution_count": 1013,
   "metadata": {},
   "outputs": [],
   "source": [
    "# 0.8010350776308223\n",
    "prediction = model.predict(X_val)\n",
    "test_id = pd.DataFrame(test_id)\n",
    "prediction = pd.DataFrame(prediction, columns=['Transported'])\n",
    "result = test_id.join(prediction)\n",
    "result.to_csv('submission.csv', index=False)"
   ]
  }
 ],
 "metadata": {
  "kernelspec": {
   "display_name": "Python 3.7.9 64-bit",
   "language": "python",
   "name": "python3"
  },
  "language_info": {
   "codemirror_mode": {
    "name": "ipython",
    "version": 3
   },
   "file_extension": ".py",
   "mimetype": "text/x-python",
   "name": "python",
   "nbconvert_exporter": "python",
   "pygments_lexer": "ipython3",
   "version": "3.7.9"
  },
  "orig_nbformat": 4,
  "vscode": {
   "interpreter": {
    "hash": "343199050d598d2a78c90ac803698915da1c299ca8339451b60b57ba9d8b1b21"
   }
  }
 },
 "nbformat": 4,
 "nbformat_minor": 2
}
